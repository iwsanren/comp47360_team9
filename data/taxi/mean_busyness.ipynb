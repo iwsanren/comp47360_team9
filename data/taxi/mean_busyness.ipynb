{
 "cells": [
  {
   "cell_type": "markdown",
   "id": "b713265f",
   "metadata": {},
   "source": [
    "This notebook reads taxi data to produce a clean, normalised dataset of hourly busyness. It starts with loading a summary of hourly activity, validating important columns, and calculating average median activity per hour per taxi zone. These are then normalised to produce a standard busyness measure of 0-1. The resulting product is a dataset, which can be applied downstream to a machine learning tasks, and green scoring for sustainable routing."
   ]
  },
  {
   "cell_type": "code",
   "execution_count": 1,
   "id": "a70a83dc-1451-4875-b4aa-3fe033af10fa",
   "metadata": {},
   "outputs": [],
   "source": [
    "# Importing.\n",
    "import pandas as pd\n",
    "import numpy as np"
   ]
  },
  {
   "cell_type": "code",
   "execution_count": 2,
   "id": "480eaa7b",
   "metadata": {},
   "outputs": [],
   "source": [
    "# Loading zone level summary data.\n",
    "summary_df = pd.read_csv(\"zone_hourly_summary.csv\")\n",
    "\n",
    "# Ensuring required columns are present.\n",
    "required_columns = [\"PULocationID\", \"pickup_hour\", \"day_of_week\", \"zone_hourly_activity\"]\n",
    "missing = [col for col in required_columns if col not in summary_df.columns]\n",
    "if missing:\n",
    "    raise ValueError(f\"Missing columns: {missing}\")"
   ]
  },
  {
   "cell_type": "code",
   "execution_count": 3,
   "id": "28703bf8",
   "metadata": {},
   "outputs": [],
   "source": [
    "# Getting ercentiles for each zone-hour-day group.\n",
    "zone_percentiles = summary_df.groupby(\n",
    "    [\"PULocationID\", \"day_of_week\", \"pickup_hour\"]\n",
    ")[\"zone_hourly_activity\"].agg(\n",
    "    min=\"min\",\n",
    "    p10=lambda x: x.quantile(0.10),\n",
    "    p25=lambda x: x.quantile(0.25),\n",
    "    p50=\"median\",  \n",
    "    p75=lambda x: x.quantile(0.75),\n",
    "    p90=lambda x: x.quantile(0.90),\n",
    "    max=\"max\"\n",
    ").reset_index()"
   ]
  },
  {
   "cell_type": "code",
   "execution_count": 4,
   "id": "543f016f",
   "metadata": {},
   "outputs": [],
   "source": [
    "# Calculating average median per pickup_hour and PULocationID for normalisation.\n",
    "zone_medians = zone_percentiles.groupby(['pickup_hour', 'PULocationID'])['p50'].mean().reset_index()\n",
    "\n",
    "# Normalised busyness across the whole dataset.\n",
    "min_val = zone_medians['p50'].min()\n",
    "max_val = zone_medians['p50'].max()\n",
    "zone_medians['normalised_busyness'] = (zone_medians['p50'] - min_val) / (max_val - min_val)"
   ]
  },
  {
   "cell_type": "code",
   "execution_count": 5,
   "id": "36bafdd2",
   "metadata": {},
   "outputs": [],
   "source": [
    "# Merging normalised values back into the main percentiles DataFrame.\n",
    "zone_final = pd.merge(\n",
    "    zone_percentiles,\n",
    "    zone_medians[['pickup_hour', 'PULocationID', 'normalised_busyness']],\n",
    "    on=['pickup_hour', 'PULocationID'],\n",
    "    how='left'\n",
    ")"
   ]
  },
  {
   "cell_type": "code",
   "execution_count": 6,
   "id": "d844f757",
   "metadata": {},
   "outputs": [
    {
     "name": "stdout",
     "output_type": "stream",
     "text": [
      "zone_hourly_busyness_stats.csv created successfully\n",
      "   PULocationID  day_of_week  pickup_hour  min  p10    p25   p50    p75   p90  \\\n",
      "0             4            0            0    5  7.0   9.00  12.5  15.00  19.3   \n",
      "1             4            0            1    2  3.0   5.00   6.5  11.00  16.5   \n",
      "2             4            0            2    2  3.6   4.00   5.0   7.00  18.2   \n",
      "3             4            0            3    1  2.0   2.75   5.0   6.25   9.7   \n",
      "4             4            0            4    1  2.0   3.00   3.0   5.00   6.0   \n",
      "5             4            0            5    1  1.0   2.00   3.0   5.00   6.8   \n",
      "6             4            0            6    1  3.0   4.00   7.0   9.00  11.0   \n",
      "7             4            0            7    4  6.1   8.00  12.0  18.00  20.9   \n",
      "8             4            0            8    1  6.0  11.00  16.0  19.00  24.0   \n",
      "9             4            0            9    4  6.0   9.00  13.0  15.00  19.0   \n",
      "\n",
      "   max  normalised_busyness  \n",
      "0   59             0.057916  \n",
      "1   73             0.053752  \n",
      "2   68             0.041261  \n",
      "3   67             0.021198  \n",
      "4   64             0.010599  \n",
      "5   18             0.002934  \n",
      "6   13             0.007192  \n",
      "7   27             0.014763  \n",
      "8   30             0.017507  \n",
      "9   23             0.016750  \n"
     ]
    }
   ],
   "source": [
    "# Saving as CSV.\n",
    "zone_final.to_csv(\"zone_hourly_busyness_stats.csv\", index=False)\n",
    "\n",
    "print(\"zone_hourly_busyness_stats.csv created successfully\")\n",
    "print(zone_final.head(10))"
   ]
  }
 ],
 "metadata": {
  "kernelspec": {
   "display_name": "base",
   "language": "python",
   "name": "python3"
  },
  "language_info": {
   "codemirror_mode": {
    "name": "ipython",
    "version": 3
   },
   "file_extension": ".py",
   "mimetype": "text/x-python",
   "name": "python",
   "nbconvert_exporter": "python",
   "pygments_lexer": "ipython3",
   "version": "3.12.4"
  }
 },
 "nbformat": 4,
 "nbformat_minor": 5
}
