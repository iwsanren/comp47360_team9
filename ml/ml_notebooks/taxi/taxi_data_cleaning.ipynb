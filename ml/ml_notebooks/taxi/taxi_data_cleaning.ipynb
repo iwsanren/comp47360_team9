{
 "cells": [
  {
   "cell_type": "markdown",
   "id": "20612b00",
   "metadata": {},
   "source": [
    "This notebook does performs the cleaning of New York City yellow taxi trip historical data. It starts by loading and merging several Parquet files with the selection of useful features, including pickup time, location IDs, trip distances, fares, and surcharges. The notebook deals with missing values, especially in such attributes as `passenger_count` and `congestion_surcharge` through the use of reasonable imputations. It also has validation processes like distribution checks to make sure that the data is consistent. The output dataset is organised and is used to continue analysis, modeling, and incorporation into the application."
   ]
  },
  {
   "cell_type": "code",
   "execution_count": 1,
   "id": "ee7eb995-9f48-4287-87bf-a083541097ef",
   "metadata": {},
   "outputs": [],
   "source": [
    "# Importing.\n",
    "import pandas as pd\n",
    "import glob\n",
    "import holidays\n",
    "import matplotlib.pyplot as plt"
   ]
  },
  {
   "cell_type": "code",
   "execution_count": 2,
   "id": "76a4f391",
   "metadata": {},
   "outputs": [],
   "source": [
    "# Disabling scientific notation.\n",
    "pd.set_option('display.float_format', '{:.2f}'.format)"
   ]
  },
  {
   "cell_type": "code",
   "execution_count": 3,
   "id": "93454a21",
   "metadata": {},
   "outputs": [],
   "source": [
    "# File location.\n",
    "files = glob.glob(r'C:\\Users\\marty\\OneDrive\\Desktop\\Research Practicum\\taxi_data\\yellow_tripdata_*.parquet')\n",
    "\n",
    "# Read and concatenate.\n",
    "df = pd.concat([pd.read_parquet(file) for file in files])\n",
    "\n",
    "# Saving combined file.\n",
    "df.to_parquet(r'C:\\Users\\marty\\OneDrive\\Desktop\\Research Practicum\\taxi_data\\combined_yellow_tripdata.parquet', index=False)"
   ]
  },
  {
   "cell_type": "code",
   "execution_count": 4,
   "id": "746d1b27",
   "metadata": {},
   "outputs": [
    {
     "name": "stdout",
     "output_type": "stream",
     "text": [
      "   VendorID tpep_pickup_datetime tpep_dropoff_datetime  passenger_count  \\\n",
      "0         2  2024-01-01 00:57:55   2024-01-01 01:17:43             1.00   \n",
      "1         1  2024-01-01 00:03:00   2024-01-01 00:09:36             1.00   \n",
      "2         1  2024-01-01 00:17:06   2024-01-01 00:35:01             1.00   \n",
      "3         1  2024-01-01 00:36:38   2024-01-01 00:44:56             1.00   \n",
      "4         1  2024-01-01 00:46:51   2024-01-01 00:52:57             1.00   \n",
      "\n",
      "   trip_distance  RatecodeID store_and_fwd_flag  PULocationID  DOLocationID  \\\n",
      "0           1.72        1.00                  N           186            79   \n",
      "1           1.80        1.00                  N           140           236   \n",
      "2           4.70        1.00                  N           236            79   \n",
      "3           1.40        1.00                  N            79           211   \n",
      "4           0.80        1.00                  N           211           148   \n",
      "\n",
      "   payment_type  fare_amount  extra  mta_tax  tip_amount  tolls_amount  \\\n",
      "0             2        17.70   1.00     0.50        0.00          0.00   \n",
      "1             1        10.00   3.50     0.50        3.75          0.00   \n",
      "2             1        23.30   3.50     0.50        3.00          0.00   \n",
      "3             1        10.00   3.50     0.50        2.00          0.00   \n",
      "4             1         7.90   3.50     0.50        3.20          0.00   \n",
      "\n",
      "   improvement_surcharge  total_amount  congestion_surcharge  Airport_fee  \n",
      "0                   1.00         22.70                  2.50         0.00  \n",
      "1                   1.00         18.75                  2.50         0.00  \n",
      "2                   1.00         31.30                  2.50         0.00  \n",
      "3                   1.00         17.00                  2.50         0.00  \n",
      "4                   1.00         16.10                  2.50         0.00  \n",
      "(41169720, 19)\n",
      "<class 'pandas.core.frame.DataFrame'>\n",
      "RangeIndex: 41169720 entries, 0 to 41169719\n",
      "Data columns (total 19 columns):\n",
      " #   Column                 Dtype         \n",
      "---  ------                 -----         \n",
      " 0   VendorID               int32         \n",
      " 1   tpep_pickup_datetime   datetime64[us]\n",
      " 2   tpep_dropoff_datetime  datetime64[us]\n",
      " 3   passenger_count        float64       \n",
      " 4   trip_distance          float64       \n",
      " 5   RatecodeID             float64       \n",
      " 6   store_and_fwd_flag     object        \n",
      " 7   PULocationID           int32         \n",
      " 8   DOLocationID           int32         \n",
      " 9   payment_type           int64         \n",
      " 10  fare_amount            float64       \n",
      " 11  extra                  float64       \n",
      " 12  mta_tax                float64       \n",
      " 13  tip_amount             float64       \n",
      " 14  tolls_amount           float64       \n",
      " 15  improvement_surcharge  float64       \n",
      " 16  total_amount           float64       \n",
      " 17  congestion_surcharge   float64       \n",
      " 18  Airport_fee            float64       \n",
      "dtypes: datetime64[us](2), float64(12), int32(3), int64(1), object(1)\n",
      "memory usage: 5.4+ GB\n",
      "None\n",
      "         VendorID        tpep_pickup_datetime       tpep_dropoff_datetime  \\\n",
      "count 41169720.00                    41169720                    41169720   \n",
      "mean         1.76  2024-07-06 10:01:25.051412  2024-07-06 10:18:53.125903   \n",
      "min          1.00         2002-12-31 16:46:07         2002-12-31 17:24:07   \n",
      "25%          2.00  2024-04-06 20:07:27.500000         2024-04-06 20:23:52   \n",
      "50%          2.00         2024-07-03 23:35:15         2024-07-03 23:50:35   \n",
      "75%          2.00         2024-10-08 17:33:35  2024-10-08 17:53:27.250000   \n",
      "max          7.00         2026-06-26 23:53:12         2026-06-27 20:59:10   \n",
      "std          0.43                         NaN                         NaN   \n",
      "\n",
      "       passenger_count  trip_distance  RatecodeID  PULocationID  DOLocationID  \\\n",
      "count      37078488.00    41169720.00 37078488.00   41169720.00   41169720.00   \n",
      "mean              1.33           4.98        2.32        164.24        163.45   \n",
      "min               0.00           0.00        1.00          1.00          1.00   \n",
      "25%               1.00           1.01        1.00        132.00        113.00   \n",
      "50%               1.00           1.76        1.00        161.00        162.00   \n",
      "75%               1.00           3.36        1.00        233.00        234.00   \n",
      "max               9.00      398608.62       99.00        265.00        265.00   \n",
      "std               0.82         419.23       10.93         64.34         69.60   \n",
      "\n",
      "       payment_type  fare_amount       extra     mta_tax  tip_amount  \\\n",
      "count   41169720.00  41169720.00 41169720.00 41169720.00 41169720.00   \n",
      "mean           1.11        19.27        1.39        0.48        3.31   \n",
      "min            0.00     -2261.20       -9.25       -0.50     -300.00   \n",
      "25%            1.00         9.30        0.00        0.50        0.00   \n",
      "50%            1.00        13.50        1.00        0.50        2.60   \n",
      "75%            1.00        22.60        2.50        0.50        4.25   \n",
      "max            5.00    335544.44       65.99       41.30      999.99   \n",
      "std            0.65        76.72        1.82        0.13        4.09   \n",
      "\n",
      "       tolls_amount  improvement_surcharge  total_amount  \\\n",
      "count   41169720.00            41169720.00   41169720.00   \n",
      "mean           0.56                   0.96         27.83   \n",
      "min         -140.63                  -1.00      -2265.45   \n",
      "25%            0.00                   1.00         15.75   \n",
      "50%            0.00                   1.00         21.00   \n",
      "75%            0.00                   1.00         30.60   \n",
      "max         1702.88                   2.00     335550.94   \n",
      "std            2.24                   0.26         78.05   \n",
      "\n",
      "       congestion_surcharge  Airport_fee  \n",
      "count           37078488.00  37078488.00  \n",
      "mean                   2.23         0.15  \n",
      "min                   -2.50        -1.75  \n",
      "25%                    2.50         0.00  \n",
      "50%                    2.50         0.00  \n",
      "75%                    2.50         0.00  \n",
      "max                    2.52         1.75  \n",
      "std                    0.87         0.50  \n"
     ]
    }
   ],
   "source": [
    "# Loading file.\n",
    "df_combined = pd.read_parquet(r'C:\\Users\\marty\\OneDrive\\Desktop\\Research Practicum\\taxi_data\\combined_yellow_tripdata.parquet')\n",
    "\n",
    "# Previewing data.\n",
    "print(df_combined.head())\n",
    "\n",
    "# Display number of rows and columns.\n",
    "print(df_combined.shape)\n",
    "\n",
    "# See column names and data types.\n",
    "print(df_combined.info())\n",
    "\n",
    "# Summary statistics.\n",
    "print(df_combined.describe())"
   ]
  },
  {
   "cell_type": "code",
   "execution_count": 5,
   "id": "6f057f48",
   "metadata": {},
   "outputs": [
    {
     "name": "stdout",
     "output_type": "stream",
     "text": [
      "  tpep_pickup_datetime tpep_dropoff_datetime  PULocationID  DOLocationID  \\\n",
      "0  2024-01-01 00:57:55   2024-01-01 01:17:43           186            79   \n",
      "1  2024-01-01 00:03:00   2024-01-01 00:09:36           140           236   \n",
      "2  2024-01-01 00:17:06   2024-01-01 00:35:01           236            79   \n",
      "3  2024-01-01 00:36:38   2024-01-01 00:44:56            79           211   \n",
      "4  2024-01-01 00:46:51   2024-01-01 00:52:57           211           148   \n",
      "\n",
      "   passenger_count  trip_distance  fare_amount  tip_amount  total_amount  \\\n",
      "0             1.00           1.72        17.70        0.00         22.70   \n",
      "1             1.00           1.80        10.00        3.75         18.75   \n",
      "2             1.00           4.70        23.30        3.00         31.30   \n",
      "3             1.00           1.40        10.00        2.00         17.00   \n",
      "4             1.00           0.80         7.90        3.20         16.10   \n",
      "\n",
      "   congestion_surcharge  pickup_hour  pickup_dayofweek  is_weekend  \\\n",
      "0                  2.50            0                 0       False   \n",
      "1                  2.50            0                 0       False   \n",
      "2                  2.50            0                 0       False   \n",
      "3                  2.50            0                 0       False   \n",
      "4                  2.50            0                 0       False   \n",
      "\n",
      "   trip_duration_min trip_duration_readable  \n",
      "0              19.80                  19:48  \n",
      "1               6.60                  06:35  \n",
      "2              17.92                  17:55  \n",
      "3               8.30                  08:18  \n",
      "4               6.10                  06:05  \n",
      "<class 'pandas.core.frame.DataFrame'>\n",
      "RangeIndex: 41169720 entries, 0 to 41169719\n",
      "Data columns (total 15 columns):\n",
      " #   Column                  Dtype         \n",
      "---  ------                  -----         \n",
      " 0   tpep_pickup_datetime    datetime64[us]\n",
      " 1   tpep_dropoff_datetime   datetime64[us]\n",
      " 2   PULocationID            int32         \n",
      " 3   DOLocationID            int32         \n",
      " 4   passenger_count         float64       \n",
      " 5   trip_distance           float64       \n",
      " 6   fare_amount             float64       \n",
      " 7   tip_amount              float64       \n",
      " 8   total_amount            float64       \n",
      " 9   congestion_surcharge    float64       \n",
      " 10  pickup_hour             int32         \n",
      " 11  pickup_dayofweek        int32         \n",
      " 12  is_weekend              bool          \n",
      " 13  trip_duration_min       float64       \n",
      " 14  trip_duration_readable  object        \n",
      "dtypes: bool(1), datetime64[us](2), float64(7), int32(4), object(1)\n",
      "memory usage: 3.7+ GB\n",
      "None\n"
     ]
    }
   ],
   "source": [
    "# Loading parquet file.\n",
    "df = df_combined.copy()\n",
    "\n",
    "# Selecting useful features.\n",
    "df = df[[\n",
    "    \"tpep_pickup_datetime\",\n",
    "    \"tpep_dropoff_datetime\",\n",
    "    \"PULocationID\",\n",
    "    \"DOLocationID\",\n",
    "    \"passenger_count\",\n",
    "    \"trip_distance\",\n",
    "    \"fare_amount\",\n",
    "    \"tip_amount\",\n",
    "    \"total_amount\",\n",
    "    \"congestion_surcharge\"\n",
    "]]\n",
    "\n",
    "# Convert datetime columns.\n",
    "df[\"tpep_pickup_datetime\"] = pd.to_datetime(df[\"tpep_pickup_datetime\"])\n",
    "df[\"tpep_dropoff_datetime\"] = pd.to_datetime(df[\"tpep_dropoff_datetime\"])\n",
    "\n",
    "# New time-based features from pickup time.\n",
    "df[\"pickup_hour\"] = df[\"tpep_pickup_datetime\"].dt.hour\n",
    "df[\"pickup_dayofweek\"] = df[\"tpep_pickup_datetime\"].dt.dayofweek  # 0 is Monday, 6 is Sunday\n",
    "df[\"is_weekend\"] = df[\"pickup_dayofweek\"] >= 5\n",
    "\n",
    "# Get trip duration in minutes.\n",
    "df[\"trip_duration_min\"] = (\n",
    "    (df[\"tpep_dropoff_datetime\"] - df[\"tpep_pickup_datetime\"]).dt.total_seconds() / 60).round(2)\n",
    "\n",
    "# More readable version of trip duration.\n",
    "df[\"trip_duration_readable\"] = df[\"trip_duration_min\"].apply(\n",
    "    lambda x: f\"{int(x):02d}:{int((x % 1) * 60):02d}\")\n",
    "\n",
    "# Display cleaned info.\n",
    "print(df.head())\n",
    "print(df.info())"
   ]
  },
  {
   "cell_type": "code",
   "execution_count": 6,
   "id": "bac8cc4a",
   "metadata": {},
   "outputs": [
    {
     "name": "stdout",
     "output_type": "stream",
     "text": [
      "tpep_pickup_datetime            0\n",
      "tpep_dropoff_datetime           0\n",
      "PULocationID                    0\n",
      "DOLocationID                    0\n",
      "passenger_count           4091232\n",
      "trip_distance                   0\n",
      "fare_amount                     0\n",
      "tip_amount                      0\n",
      "total_amount                    0\n",
      "congestion_surcharge      4091232\n",
      "pickup_hour                     0\n",
      "pickup_dayofweek                0\n",
      "is_weekend                      0\n",
      "trip_duration_min               0\n",
      "trip_duration_readable          0\n",
      "dtype: int64\n"
     ]
    }
   ],
   "source": [
    "# Check for NaN values.\n",
    "print(df.isna().sum())"
   ]
  },
  {
   "cell_type": "code",
   "execution_count": 7,
   "id": "545ee05d",
   "metadata": {},
   "outputs": [
    {
     "name": "stdout",
     "output_type": "stream",
     "text": [
      "Total rows: 41169720\n",
      "Total rows with missing passenger_count or congestion_surcharge: 4091232\n"
     ]
    }
   ],
   "source": [
    "# Examining the issue.\n",
    "print(f\"Total rows: {df.shape[0]}\")\n",
    "print(f\"Total rows with missing passenger_count or congestion_surcharge: {df[df['passenger_count'].isna() | df['congestion_surcharge'].isna()].shape[0]}\")"
   ]
  },
  {
   "cell_type": "code",
   "execution_count": 8,
   "id": "5fff3037",
   "metadata": {},
   "outputs": [
    {
     "name": "stdout",
     "output_type": "stream",
     "text": [
      "Passenger Count Distribution:\n",
      "passenger_count\n",
      "1.00   77.22\n",
      "2.00   14.59\n",
      "3.00    3.46\n",
      "4.00    2.20\n",
      "0.00    1.08\n",
      "5.00    0.86\n",
      "6.00    0.58\n",
      "8.00    0.00\n",
      "7.00    0.00\n",
      "9.00    0.00\n",
      "Name: proportion, dtype: float64\n",
      "Congestion Surcharge Distribution:\n",
      "congestion_surcharge\n",
      "2.50    90.62\n",
      "0.00     8.04\n",
      "-2.50    1.34\n",
      "1.00     0.00\n",
      "0.75     0.00\n",
      "-0.75    0.00\n",
      "2.00     0.00\n",
      "2.52     0.00\n",
      "Name: proportion, dtype: float64\n"
     ]
    }
   ],
   "source": [
    "# Let's examine the distribution.\n",
    "print(\"Passenger Count Distribution:\")\n",
    "print(df[\"passenger_count\"].value_counts(dropna=True, normalize=True).round(8) * 100)\n",
    "\n",
    "print(\"Congestion Surcharge Distribution:\")\n",
    "print(df[\"congestion_surcharge\"].value_counts(dropna=True, normalize=True).round(8) * 100)"
   ]
  },
  {
   "cell_type": "code",
   "execution_count": 9,
   "id": "e42c9fe6",
   "metadata": {},
   "outputs": [],
   "source": [
    "# About 10% of rows are affected. However, passenger_count, and congestion_surcharge are not key features which is why I am imputing.\n",
    "df[\"passenger_count\"] = df[\"passenger_count\"].fillna(1)\n",
    "\n",
    "# Some are negative so set them to 0 if that's the case and impute with the mode as before.\n",
    "df.loc[df[\"congestion_surcharge\"] < 0, \"congestion_surcharge\"] = 0.0\n",
    "df[\"congestion_surcharge\"] = df[\"congestion_surcharge\"].fillna(2.50)"
   ]
  },
  {
   "cell_type": "code",
   "execution_count": 10,
   "id": "b07011ad",
   "metadata": {},
   "outputs": [
    {
     "name": "stdout",
     "output_type": "stream",
     "text": [
      "tpep_pickup_datetime      0\n",
      "tpep_dropoff_datetime     0\n",
      "PULocationID              0\n",
      "DOLocationID              0\n",
      "passenger_count           0\n",
      "trip_distance             0\n",
      "fare_amount               0\n",
      "tip_amount                0\n",
      "total_amount              0\n",
      "congestion_surcharge      0\n",
      "pickup_hour               0\n",
      "pickup_dayofweek          0\n",
      "is_weekend                0\n",
      "trip_duration_min         0\n",
      "trip_duration_readable    0\n",
      "dtype: int64\n"
     ]
    }
   ],
   "source": [
    "# Check for NaN values again.\n",
    "print(df.isna().sum())"
   ]
  },
  {
   "cell_type": "code",
   "execution_count": 11,
   "id": "b6f54c3c",
   "metadata": {},
   "outputs": [
    {
     "name": "stdout",
     "output_type": "stream",
     "text": [
      "Zero/negative fare amounts: 748284\n",
      "Zero/negative trip distance: 776305\n",
      "Zero/negative duration: 13510\n"
     ]
    }
   ],
   "source": [
    "# These values should be greater than 0.\n",
    "print(\"Zero/negative fare amounts:\", (df[\"fare_amount\"] <= 0).sum())\n",
    "print(\"Zero/negative trip distance:\", (df[\"trip_distance\"] <= 0).sum())\n",
    "print(\"Zero/negative duration:\", (df[\"trip_duration_min\"] <= 0).sum())"
   ]
  },
  {
   "cell_type": "code",
   "execution_count": 12,
   "id": "cc80929b",
   "metadata": {},
   "outputs": [
    {
     "name": "stdout",
     "output_type": "stream",
     "text": [
      "Fare Amount:\n",
      "    Mode: 8.6\n",
      "    Median: 14.2\n",
      "\n",
      "Trip Duration:\n",
      "    Mode: 9.0\n",
      "    Median: 13.0\n",
      "\n",
      "Trip Distance:\n",
      "    Mode: 0.9\n",
      "    Median: 1.8\n"
     ]
    }
   ],
   "source": [
    "# Fare Amount.\n",
    "fare_mode = df[df[\"fare_amount\"] > 0][\"fare_amount\"].mode()[0]\n",
    "fare_median = df[df[\"fare_amount\"] > 0][\"fare_amount\"].median()\n",
    "\n",
    "# Trip Duration.\n",
    "duration_mode = df[df[\"trip_duration_min\"] > 0][\"trip_duration_min\"].mode()[0]\n",
    "duration_median = df[df[\"trip_duration_min\"] > 0][\"trip_duration_min\"].median()\n",
    "\n",
    "# Trip Distance.\n",
    "distance_mode = df[df[\"trip_distance\"] > 0][\"trip_distance\"].mode()[0]\n",
    "distance_median = df[df[\"trip_distance\"] > 0][\"trip_distance\"].median()\n",
    "\n",
    "# Display mode and median for each.\n",
    "print(\"Fare Amount:\")\n",
    "print(f\"    Mode: {fare_mode}\")\n",
    "print(f\"    Median: {fare_median}\")\n",
    "\n",
    "print(\"\\nTrip Duration:\")\n",
    "print(f\"    Mode: {duration_mode}\")\n",
    "print(f\"    Median: {duration_median}\")\n",
    "\n",
    "print(\"\\nTrip Distance:\")\n",
    "print(f\"    Mode: {distance_mode}\")\n",
    "print(f\"    Median: {distance_median}\")"
   ]
  },
  {
   "cell_type": "code",
   "execution_count": 13,
   "id": "63e2dc1b",
   "metadata": {},
   "outputs": [],
   "source": [
    "# Getting medians from valid data.\n",
    "fare_median = df[df[\"fare_amount\"] > 0][\"fare_amount\"].median()\n",
    "duration_median = df[df[\"trip_duration_min\"] > 0][\"trip_duration_min\"].median()\n",
    "distance_median = df[df[\"trip_distance\"] > 0][\"trip_distance\"].median()\n",
    "\n",
    "# Applying imputation.\n",
    "df.loc[df[\"fare_amount\"] <= 0, \"fare_amount\"] = fare_median\n",
    "df.loc[df[\"trip_duration_min\"] <= 0, \"trip_duration_min\"] = duration_median\n",
    "df.loc[df[\"trip_distance\"] <= 0, \"trip_distance\"] = distance_median"
   ]
  },
  {
   "cell_type": "code",
   "execution_count": 14,
   "id": "e08bd771",
   "metadata": {},
   "outputs": [
    {
     "name": "stdout",
     "output_type": "stream",
     "text": [
      "Zero/negative fare amounts: 0\n",
      "Zero/negative trip distance: 0\n",
      "Zero/negative duration: 0\n"
     ]
    }
   ],
   "source": [
    "# Check again.\n",
    "print(\"Zero/negative fare amounts:\", (df[\"fare_amount\"] <= 0).sum())\n",
    "print(\"Zero/negative trip distance:\", (df[\"trip_distance\"] <= 0).sum())\n",
    "print(\"Zero/negative duration:\", (df[\"trip_duration_min\"] <= 0).sum())"
   ]
  },
  {
   "cell_type": "code",
   "execution_count": 15,
   "id": "0a344923",
   "metadata": {},
   "outputs": [
    {
     "name": "stdout",
     "output_type": "stream",
     "text": [
      "Duplicate rows: 4\n"
     ]
    }
   ],
   "source": [
    "# Check and discard duplicate rows.\n",
    "duplicate_rows = df.duplicated().sum()\n",
    "print(f\"Duplicate rows: {duplicate_rows}\")\n",
    "\n",
    "df = df.drop_duplicates()"
   ]
  },
  {
   "cell_type": "code",
   "execution_count": 16,
   "id": "cebeafc0",
   "metadata": {},
   "outputs": [
    {
     "name": "stdout",
     "output_type": "stream",
     "text": [
      "Fare per Mile Distribution:\n",
      "count   41169716.00\n",
      "mean          14.30\n",
      "std          164.18\n",
      "min            0.00\n",
      "25%            5.75\n",
      "50%            7.39\n",
      "75%            9.53\n",
      "max       185597.96\n",
      "Name: fare_per_mile, dtype: float64\n",
      "\n",
      "Fare per Minute Distribution:\n",
      "count   41169716.00\n",
      "mean           4.23\n",
      "std           58.07\n",
      "min            0.00\n",
      "25%            0.98\n",
      "50%            1.13\n",
      "75%            1.37\n",
      "max       112483.61\n",
      "Name: fare_per_min, dtype: float64\n"
     ]
    }
   ],
   "source": [
    "# Calculating fare per mile and per minute.\n",
    "df[\"fare_per_mile\"] = df[\"fare_amount\"] / df[\"trip_distance\"]\n",
    "df[\"fare_per_min\"] = df[\"fare_amount\"] / df[\"trip_duration_min\"]\n",
    "\n",
    "# Checking stats.\n",
    "print(\"Fare per Mile Distribution:\")\n",
    "print(df[\"fare_per_mile\"].describe())\n",
    "\n",
    "print(\"\\nFare per Minute Distribution:\")\n",
    "print(df[\"fare_per_min\"].describe())"
   ]
  },
  {
   "cell_type": "code",
   "execution_count": 17,
   "id": "928dd79c",
   "metadata": {},
   "outputs": [
    {
     "name": "stdout",
     "output_type": "stream",
     "text": [
      "Outliers (fare_per_mile >= 100): 190718\n",
      "Outliers (fare_per_min >= 20): 360502\n"
     ]
    }
   ],
   "source": [
    "# Setting realistic thresholds.\n",
    "mile_threshold = 100\n",
    "min_threshold = 20\n",
    "\n",
    "# Counting them.\n",
    "outliers_per_mile = (df[\"fare_per_mile\"] >= mile_threshold).sum()\n",
    "outliers_per_min = (df[\"fare_per_min\"] >= min_threshold).sum()\n",
    "\n",
    "# Results.\n",
    "print(f\"Outliers (fare_per_mile >= {mile_threshold}): {outliers_per_mile}\")\n",
    "print(f\"Outliers (fare_per_min >= {min_threshold}): {outliers_per_min}\")"
   ]
  },
  {
   "cell_type": "code",
   "execution_count": 18,
   "id": "a549149c",
   "metadata": {},
   "outputs": [
    {
     "name": "stdout",
     "output_type": "stream",
     "text": [
      "Remaining rows after dropping invalid rows: 40,715,193\n"
     ]
    }
   ],
   "source": [
    "# Dropping rows as they are less than 1% of our data.\n",
    "df = df[(df[\"fare_per_mile\"] < mile_threshold) & (df[\"fare_per_min\"] < min_threshold)]\n",
    "print(f\"Remaining rows after dropping invalid rows: {len(df):,}\")"
   ]
  },
  {
   "cell_type": "code",
   "execution_count": 19,
   "id": "0cc9a830",
   "metadata": {},
   "outputs": [
    {
     "name": "stdout",
     "output_type": "stream",
     "text": [
      "Before Dropping - Trips with pickup after dropoff: 1571\n",
      "After Dropping - Trips with pickup after dropoff: 0\n"
     ]
    }
   ],
   "source": [
    "# Check how many rows have pickup after dropoff.\n",
    "invalid_time_rows_before = (df[\"tpep_pickup_datetime\"] > df[\"tpep_dropoff_datetime\"]).sum()\n",
    "print(f\"Before Dropping - Trips with pickup after dropoff: {invalid_time_rows_before}\")\n",
    "\n",
    "# Drop rows where pickup is after dropoff.\n",
    "df = df[df[\"tpep_pickup_datetime\"] <= df[\"tpep_dropoff_datetime\"]]\n",
    "\n",
    "# Check after dropping.\n",
    "invalid_time_rows_after = (df[\"tpep_pickup_datetime\"] > df[\"tpep_dropoff_datetime\"]).sum()\n",
    "print(f\"After Dropping - Trips with pickup after dropoff: {invalid_time_rows_after}\")"
   ]
  },
  {
   "cell_type": "code",
   "execution_count": 20,
   "id": "37906cae",
   "metadata": {},
   "outputs": [
    {
     "name": "stdout",
     "output_type": "stream",
     "text": [
      "Before Dropping - Rows with pickup year that's not 2024: 56\n",
      "Before Dropping - Rows with dropoff year that's not 2024: 659\n",
      "After Dropping - Rows with pickup year that's not 2024: 0\n",
      "After Dropping - Rows with dropoff year that's not 2024: 0\n"
     ]
    }
   ],
   "source": [
    "# Checking for rows where year is not 2024 (data should be only from 2024).\n",
    "non_2024_pickups = df[df[\"tpep_pickup_datetime\"].dt.year != 2024]\n",
    "non_2024_dropoffs = df[df[\"tpep_dropoff_datetime\"].dt.year != 2024]\n",
    "\n",
    "print(f\"Before Dropping - Rows with pickup year that's not 2024: {len(non_2024_pickups)}\")\n",
    "print(f\"Before Dropping - Rows with dropoff year that's not 2024: {len(non_2024_dropoffs)}\")\n",
    "\n",
    "# Dropping rows not in 2024.\n",
    "df = df[\n",
    "    (df[\"tpep_pickup_datetime\"].dt.year == 2024) &\n",
    "    (df[\"tpep_dropoff_datetime\"].dt.year == 2024)\n",
    "]\n",
    "\n",
    "# Checking after drop.\n",
    "non_2024_pickups_after = df[df[\"tpep_pickup_datetime\"].dt.year != 2024]\n",
    "non_2024_dropoffs_after = df[df[\"tpep_dropoff_datetime\"].dt.year != 2024]\n",
    "\n",
    "print(f\"After Dropping - Rows with pickup year that's not 2024: {len(non_2024_pickups_after)}\")\n",
    "print(f\"After Dropping - Rows with dropoff year that's not 2024: {len(non_2024_dropoffs_after)}\")"
   ]
  },
  {
   "cell_type": "code",
   "execution_count": 21,
   "id": "2ce74bf4",
   "metadata": {},
   "outputs": [
    {
     "name": "stdout",
     "output_type": "stream",
     "text": [
      "Same zone short trips to be dropped: 239556\n",
      "Remaining same zone short trips: 0\n"
     ]
    }
   ],
   "source": [
    "# Checking how many same zone short trips (< 2 mins) there are.\n",
    "same_zone_short_trips = df[\n",
    "    (df[\"PULocationID\"] == df[\"DOLocationID\"]) & (df[\"trip_duration_min\"] < 2)\n",
    "]\n",
    "print(f\"Same zone short trips to be dropped: {len(same_zone_short_trips)}\")\n",
    "\n",
    "# Dropping these rows as based on previous examination there are not that many considering the size of our data.\n",
    "df = df[~(\n",
    "    (df[\"PULocationID\"] == df[\"DOLocationID\"]) & \n",
    "    (df[\"trip_duration_min\"] < 2)\n",
    ")]\n",
    "\n",
    "# Confirming if they were dropped.\n",
    "remaining_same_zone_short_trips = df[\n",
    "    (df[\"PULocationID\"] == df[\"DOLocationID\"]) & (df[\"trip_duration_min\"] < 2)\n",
    "]\n",
    "print(f\"Remaining same zone short trips: {len(remaining_same_zone_short_trips)}\")"
   ]
  },
  {
   "cell_type": "code",
   "execution_count": 22,
   "id": "3d38a4d5",
   "metadata": {},
   "outputs": [
    {
     "name": "stdout",
     "output_type": "stream",
     "text": [
      "Rows not fully within Manhattan: 6782622\n"
     ]
    }
   ],
   "source": [
    "# Below are Manhattan zones based on the documentation provided.\n",
    "manhattan_zones = [4, 12, 13, 24, 41, 42, 43, 45, 48, 50, 68, 74, 75, 79, 87, 88, 90, 100, 103, 104, 105, \n",
    "107, 113, 114, 116, 120, 125, 127, 128, 137, 140, 141, 142, 143, 144, 148, 151, 152, \n",
    "153, 158, 161, 162, 163, 164, 166, 170, 186, 202, 209, 211, 224, 229, 230, 231, 232, \n",
    "233, 234, 236, 237, 238, 239, 243, 244, 246, 249, 261, 262, 263]\n",
    "\n",
    "# Count rows where either pickup or dropoff is outside of Manhattan.\n",
    "non_manhattan_rows = df[\n",
    "    ~df[\"PULocationID\"].isin(manhattan_zones) |\n",
    "    ~df[\"DOLocationID\"].isin(manhattan_zones)\n",
    "]\n",
    "\n",
    "# Display results.\n",
    "print(f\"Rows not fully within Manhattan: {len(non_manhattan_rows)}\")"
   ]
  },
  {
   "cell_type": "code",
   "execution_count": null,
   "id": "dd51f4ca",
   "metadata": {},
   "outputs": [
    {
     "name": "stdout",
     "output_type": "stream",
     "text": [
      "Remaining Manhattan only trips: 33,690,778\n"
     ]
    }
   ],
   "source": [
    "# Keeping rows where both pickup and dropoff are in Manhattan.\n",
    "df = df[\n",
    "    df[\"PULocationID\"].isin(manhattan_zones) &\n",
    "    df[\"DOLocationID\"].isin(manhattan_zones)\n",
    "]\n",
    "\n",
    "# Displaying results.\n",
    "print(f\"Remaining Manhattan only trips: {len(df):,}\")"
   ]
  },
  {
   "cell_type": "code",
   "execution_count": null,
   "id": "f9c244d0",
   "metadata": {},
   "outputs": [],
   "source": [
    "# Dropping uneccessary columns.\n",
    "df.reset_index(drop=True, inplace=True)\n",
    "df.drop(columns=[\"fare_per_mile\", \"fare_per_min\", \"trip_speed_mph\"], inplace=True, errors=\"ignore\")"
   ]
  },
  {
   "cell_type": "code",
   "execution_count": 25,
   "id": "f9ed07a0",
   "metadata": {},
   "outputs": [
    {
     "name": "stdout",
     "output_type": "stream",
     "text": [
      "  tpep_pickup_datetime tpep_dropoff_datetime  PULocationID  DOLocationID  \\\n",
      "0  2024-01-01 00:57:55   2024-01-01 01:17:43           186            79   \n",
      "1  2024-01-01 00:03:00   2024-01-01 00:09:36           140           236   \n",
      "2  2024-01-01 00:17:06   2024-01-01 00:35:01           236            79   \n",
      "3  2024-01-01 00:36:38   2024-01-01 00:44:56            79           211   \n",
      "4  2024-01-01 00:46:51   2024-01-01 00:52:57           211           148   \n",
      "\n",
      "   passenger_count  trip_distance  fare_amount  tip_amount  total_amount  \\\n",
      "0             1.00           1.72        17.70        0.00         22.70   \n",
      "1             1.00           1.80        10.00        3.75         18.75   \n",
      "2             1.00           4.70        23.30        3.00         31.30   \n",
      "3             1.00           1.40        10.00        2.00         17.00   \n",
      "4             1.00           0.80         7.90        3.20         16.10   \n",
      "\n",
      "   congestion_surcharge  pickup_hour  pickup_dayofweek  is_weekend  \\\n",
      "0                  2.50            0                 0       False   \n",
      "1                  2.50            0                 0       False   \n",
      "2                  2.50            0                 0       False   \n",
      "3                  2.50            0                 0       False   \n",
      "4                  2.50            0                 0       False   \n",
      "\n",
      "   trip_duration_min trip_duration_readable  \n",
      "0              19.80                  19:48  \n",
      "1               6.60                  06:35  \n",
      "2              17.92                  17:55  \n",
      "3               8.30                  08:18  \n",
      "4               6.10                  06:05  \n"
     ]
    }
   ],
   "source": [
    "# Examining cleaned data.\n",
    "print(df.head())"
   ]
  },
  {
   "cell_type": "code",
   "execution_count": 26,
   "id": "2a7a280e",
   "metadata": {},
   "outputs": [],
   "source": [
    "# Additional features for ML.\n",
    "df[\"pickup_date\"] = df[\"tpep_pickup_datetime\"].dt.date\n",
    "df[\"pickup_month\"] = df[\"tpep_pickup_datetime\"].dt.month\n",
    "df[\"pickup_weekofyear\"] = df[\"tpep_pickup_datetime\"].dt.isocalendar().week\n",
    "df[\"pickup_minute\"] = df[\"tpep_pickup_datetime\"].dt.minute"
   ]
  },
  {
   "cell_type": "code",
   "execution_count": 27,
   "id": "66ae76d9",
   "metadata": {},
   "outputs": [],
   "source": [
    "# Feature to check if date is a holiday.\n",
    "us_holidays = holidays.US(years=2024)\n",
    "df[\"is_holiday\"] = df[\"tpep_pickup_datetime\"].dt.date.isin(us_holidays)"
   ]
  },
  {
   "cell_type": "code",
   "execution_count": 28,
   "id": "1cbd84d5",
   "metadata": {},
   "outputs": [
    {
     "name": "stdout",
     "output_type": "stream",
     "text": [
      "  tpep_pickup_datetime  PULocationID pickup_hour_ts  zone_hourly_pickups\n",
      "0  2024-01-01 00:57:55           186     2024-01-01                   88\n",
      "1  2024-01-01 00:03:00           140     2024-01-01                   91\n",
      "2  2024-01-01 00:17:06           236     2024-01-01                  160\n",
      "3  2024-01-01 00:36:38            79     2024-01-01                  328\n",
      "4  2024-01-01 00:46:51           211     2024-01-01                   49\n"
     ]
    }
   ],
   "source": [
    "# Rounding pickup time to the nearest hour.\n",
    "df['pickup_hour_ts'] = df['tpep_pickup_datetime'].dt.floor('h')\n",
    "\n",
    "# Counting trips for each zone and hour combination.\n",
    "zone_hourly_counts = (\n",
    "    df.groupby(['PULocationID', 'pickup_hour_ts'])\n",
    "    .size()\n",
    "    .reset_index(name='zone_hourly_pickups')\n",
    ")\n",
    "\n",
    "# Merging counts.\n",
    "df = df.merge(zone_hourly_counts, on=['PULocationID', 'pickup_hour_ts'], how='left')\n",
    "\n",
    "# Examining result.\n",
    "columns_to_show = [col for col in ['tpep_pickup_datetime', 'PULocationID', 'pickup_hour_ts', 'zone_hourly_pickups'] if col in df.columns]\n",
    "print(df[columns_to_show].head())"
   ]
  },
  {
   "cell_type": "code",
   "execution_count": null,
   "id": "720226cf",
   "metadata": {},
   "outputs": [
    {
     "name": "stdout",
     "output_type": "stream",
     "text": [
      "  tpep_dropoff_datetime  DOLocationID     dropoff_hour_ts  \\\n",
      "0   2024-01-01 01:17:43            79 2024-01-01 01:00:00   \n",
      "1   2024-01-01 00:09:36           236 2024-01-01 00:00:00   \n",
      "2   2024-01-01 00:35:01            79 2024-01-01 00:00:00   \n",
      "3   2024-01-01 00:44:56           211 2024-01-01 00:00:00   \n",
      "4   2024-01-01 00:52:57           148 2024-01-01 00:00:00   \n",
      "\n",
      "   zone_hourly_dropoffs  \n",
      "0                   281  \n",
      "1                   169  \n",
      "2                   183  \n",
      "3                    35  \n",
      "4                    60  \n"
     ]
    }
   ],
   "source": [
    "# Rounding dropoff time to the nearest hour.\n",
    "df['dropoff_hour_ts'] = df['tpep_dropoff_datetime'].dt.floor('h')\n",
    "\n",
    "# Counting dropoffs for each zone and hour combination.\n",
    "zone_hourly_dropoffs = (\n",
    "    df.groupby(['DOLocationID', 'dropoff_hour_ts'])\n",
    "    .size()\n",
    "    .reset_index(name='zone_hourly_dropoffs')\n",
    ")\n",
    "\n",
    "# Merging dropoff counts.\n",
    "df = df.merge(zone_hourly_dropoffs, on=['DOLocationID', 'dropoff_hour_ts'], how='left')\n",
    "\n",
    "# Examining results.\n",
    "columns_to_show = [col for col in ['tpep_dropoff_datetime', 'DOLocationID', 'dropoff_hour_ts', 'zone_hourly_dropoffs'] if col in df.columns]\n",
    "print(df[columns_to_show].head())"
   ]
  },
  {
   "cell_type": "code",
   "execution_count": 30,
   "id": "2e4cd585",
   "metadata": {},
   "outputs": [],
   "source": [
    "# Adding a total activity feature that counts pickups and dropoffs.\n",
    "df['zone_hourly_total_activity'] = df['zone_hourly_pickups'] + df['zone_hourly_dropoffs']"
   ]
  },
  {
   "cell_type": "code",
   "execution_count": null,
   "id": "7a41edd5",
   "metadata": {},
   "outputs": [
    {
     "name": "stdout",
     "output_type": "stream",
     "text": [
      "  tpep_pickup_datetime tpep_dropoff_datetime  PULocationID  DOLocationID  \\\n",
      "0  2024-01-01 00:57:55   2024-01-01 01:17:43           186            79   \n",
      "1  2024-01-01 00:03:00   2024-01-01 00:09:36           140           236   \n",
      "2  2024-01-01 00:17:06   2024-01-01 00:35:01           236            79   \n",
      "3  2024-01-01 00:36:38   2024-01-01 00:44:56            79           211   \n",
      "4  2024-01-01 00:46:51   2024-01-01 00:52:57           211           148   \n",
      "\n",
      "   passenger_count  trip_distance  fare_amount  tip_amount  total_amount  \\\n",
      "0             1.00           1.72        17.70        0.00         22.70   \n",
      "1             1.00           1.80        10.00        3.75         18.75   \n",
      "2             1.00           4.70        23.30        3.00         31.30   \n",
      "3             1.00           1.40        10.00        2.00         17.00   \n",
      "4             1.00           0.80         7.90        3.20         16.10   \n",
      "\n",
      "   congestion_surcharge  ...  pickup_date  pickup_month  pickup_weekofyear  \\\n",
      "0                  2.50  ...   2024-01-01             1                  1   \n",
      "1                  2.50  ...   2024-01-01             1                  1   \n",
      "2                  2.50  ...   2024-01-01             1                  1   \n",
      "3                  2.50  ...   2024-01-01             1                  1   \n",
      "4                  2.50  ...   2024-01-01             1                  1   \n",
      "\n",
      "   pickup_minute is_holiday pickup_hour_ts  zone_hourly_pickups  \\\n",
      "0             57       True     2024-01-01                   88   \n",
      "1              3       True     2024-01-01                   91   \n",
      "2             17       True     2024-01-01                  160   \n",
      "3             36       True     2024-01-01                  328   \n",
      "4             46       True     2024-01-01                   49   \n",
      "\n",
      "      dropoff_hour_ts  zone_hourly_dropoffs  zone_hourly_total_activity  \n",
      "0 2024-01-01 01:00:00                   281                         369  \n",
      "1 2024-01-01 00:00:00                   169                         260  \n",
      "2 2024-01-01 00:00:00                   183                         343  \n",
      "3 2024-01-01 00:00:00                    35                         363  \n",
      "4 2024-01-01 00:00:00                    60                         109  \n",
      "\n",
      "[5 rows x 25 columns]\n"
     ]
    }
   ],
   "source": [
    "# Examining data.\n",
    "print(df.head())"
   ]
  },
  {
   "cell_type": "code",
   "execution_count": 32,
   "id": "76426afc",
   "metadata": {},
   "outputs": [],
   "source": [
    "# Adding a feature that shows which part of the day it is.\n",
    "def assign_day_part(hour):\n",
    "    if 5 <= hour < 12:\n",
    "        return \"morning\"\n",
    "    elif 12 <= hour < 17:\n",
    "        return \"afternoon\"\n",
    "    elif 17 <= hour < 21:\n",
    "        return \"evening\"\n",
    "    else:\n",
    "        return \"night\"\n",
    "\n",
    "df[\"day_part\"] = df[\"pickup_hour\"].apply(assign_day_part)"
   ]
  },
  {
   "cell_type": "code",
   "execution_count": 33,
   "id": "49731ba0",
   "metadata": {},
   "outputs": [],
   "source": [
    "# Adding expected busy (peak) hour feature.\n",
    "df[\"is_peak_hour\"] = df[\"pickup_hour\"].isin([7, 8, 9, 16, 17, 18])"
   ]
  },
  {
   "cell_type": "code",
   "execution_count": 34,
   "id": "b5f60bd7",
   "metadata": {},
   "outputs": [],
   "source": [
    "# Adding a season feature.\n",
    "def assign_season(month):\n",
    "    if month in [12, 1, 2]:\n",
    "        return \"winter\"\n",
    "    elif month in [3, 4, 5]:\n",
    "        return \"spring\"\n",
    "    elif month in [6, 7, 8]:\n",
    "        return \"summer\"\n",
    "    else:\n",
    "        return \"fall\"\n",
    "\n",
    "df[\"season\"] = df[\"pickup_month\"].apply(assign_season)"
   ]
  },
  {
   "cell_type": "code",
   "execution_count": null,
   "id": "1eea4122",
   "metadata": {},
   "outputs": [],
   "source": [
    "# Dropping unnecessary columns.\n",
    "df = df.drop(columns=[\n",
    "    'fare_amount',\n",
    "    'tip_amount',\n",
    "    'total_amount',\n",
    "    'congestion_surcharge', # After examination congestion_sur\n",
    "\n",
    "], errors='ignore')"
   ]
  },
  {
   "cell_type": "code",
   "execution_count": 36,
   "id": "5ddfde58",
   "metadata": {},
   "outputs": [],
   "source": [
    "# Final data for modeling.\n",
    "df.to_parquet(\"manhattan_taxi_2024_clean.parquet\", index=False)\n",
    "\n",
    "# Preview which can be viewed using excel.\n",
    "df.sample(10000).to_csv(\"manhattan_taxi_2024_sample.csv\", index=False)"
   ]
  }
 ],
 "metadata": {
  "kernelspec": {
   "display_name": "base",
   "language": "python",
   "name": "python3"
  },
  "language_info": {
   "codemirror_mode": {
    "name": "ipython",
    "version": 3
   },
   "file_extension": ".py",
   "mimetype": "text/x-python",
   "name": "python",
   "nbconvert_exporter": "python",
   "pygments_lexer": "ipython3",
   "version": "3.12.4"
  }
 },
 "nbformat": 4,
 "nbformat_minor": 5
}
