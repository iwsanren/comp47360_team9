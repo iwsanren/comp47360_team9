{
 "cells": [
  {
   "cell_type": "markdown",
   "id": "d6161f06",
   "metadata": {},
   "source": [
    "This notebook extracts the geographic data of Manhattan's taxi zones. It reads a shapefile with all taxi zones, transforms its coordinates and computes the geographic centroid of each zone. The result is a cleaned dataset of the Manhattan taxi zones and their centroid latitude and longitude, geometry, as well as other details which are saved as a CSV file. This is directly used in predictions to mark different areas and how busy they are."
   ]
  },
  {
   "cell_type": "code",
   "execution_count": 1,
   "id": "265c6117-baa6-41df-9522-1521a3ea8a96",
   "metadata": {},
   "outputs": [],
   "source": [
    "# Importing.\n",
    "import fiona\n",
    "from shapely.geometry import shape\n",
    "from shapely.ops import transform\n",
    "import pandas as pd\n",
    "import geopandas as gpd\n",
    "from pyproj import Transformer\n",
    "import folium"
   ]
  },
  {
   "cell_type": "markdown",
   "id": "8c812983",
   "metadata": {},
   "source": [
    "Getting the centroid locations and geometry data for each taxi zone below."
   ]
  },
  {
   "cell_type": "code",
   "execution_count": 2,
   "id": "24fec2c5",
   "metadata": {},
   "outputs": [
    {
     "name": "stderr",
     "output_type": "stream",
     "text": [
      "C:\\Users\\marty\\AppData\\Local\\Temp\\ipykernel_28820\\2830254539.py:17: FionaDeprecationWarning: instances of this class -- CRS, geometry, and feature objects -- will become immutable in fiona version 2.0\n",
      "  props['centroid_lon'] = lon\n",
      "C:\\Users\\marty\\AppData\\Local\\Temp\\ipykernel_28820\\2830254539.py:18: FionaDeprecationWarning: instances of this class -- CRS, geometry, and feature objects -- will become immutable in fiona version 2.0\n",
      "  props['centroid_lat'] = lat\n",
      "C:\\Users\\marty\\AppData\\Local\\Temp\\ipykernel_28820\\2830254539.py:19: FionaDeprecationWarning: instances of this class -- CRS, geometry, and feature objects -- will become immutable in fiona version 2.0\n",
      "  props['geometry'] = geom_wgs84\n"
     ]
    },
    {
     "name": "stdout",
     "output_type": "stream",
     "text": [
      "     LocationID                       zone  centroid_lat  centroid_lon  \\\n",
      "3             4              Alphabet City     40.723752    -73.976968   \n",
      "11           12               Battery Park     40.702946    -74.015563   \n",
      "12           13          Battery Park City     40.712038    -74.016079   \n",
      "23           24               Bloomingdale     40.801971    -73.965479   \n",
      "40           41             Central Harlem     40.804334    -73.951292   \n",
      "..          ...                        ...           ...           ...   \n",
      "245         246  West Chelsea/Hudson Yards     40.753309    -74.004016   \n",
      "248         249               West Village     40.734576    -74.002875   \n",
      "260         261         World Trade Center     40.709139    -74.013023   \n",
      "261         262             Yorkville East     40.775932    -73.946510   \n",
      "262         263             Yorkville West     40.778766    -73.951010   \n",
      "\n",
      "                                              geometry  \n",
      "3    POLYGON ((-73.97177410965318 40.72582128133726...  \n",
      "11   POLYGON ((-74.01565756599994 40.70483308800013...  \n",
      "12   POLYGON ((-74.01244109299991 40.7190576730001,...  \n",
      "23   POLYGON ((-73.95953658899997 40.79871852600009...  \n",
      "40   POLYGON ((-73.94773985499985 40.80959972100007...  \n",
      "..                                                 ...  \n",
      "245  POLYGON ((-74.00439976203513 40.76267135909907...  \n",
      "248  POLYGON ((-74.00250642399995 40.72901638500016...  \n",
      "260  POLYGON ((-74.01332610899988 40.70503078800009...  \n",
      "261  MULTIPOLYGON (((-73.94383256699986 40.78285908...  \n",
      "262  POLYGON ((-73.95218621999996 40.7730198450001,...  \n",
      "\n",
      "[69 rows x 5 columns]\n"
     ]
    }
   ],
   "source": [
    "# Path to shapefile.\n",
    "shapefile_path = 'taxi_zones.shp'\n",
    "\n",
    "# Seting up transformer.\n",
    "transformer = Transformer.from_crs(2263, 4326, always_xy=True)\n",
    "\n",
    "# Reading .shp and getting centroids.\n",
    "records = []\n",
    "geoms = []\n",
    "with fiona.open(shapefile_path) as shp:\n",
    "    for feature in shp:\n",
    "        props = feature['properties']\n",
    "        geom = shape(feature['geometry'])\n",
    "        centroid = geom.centroid\n",
    "        lon, lat = transformer.transform(centroid.x, centroid.y)\n",
    "        geom_wgs84 = transform(transformer.transform, geom)\n",
    "        props['centroid_lon'] = lon\n",
    "        props['centroid_lat'] = lat\n",
    "        props['geometry'] = geom_wgs84\n",
    "        records.append(props)\n",
    "\n",
    "# Creating DataFrame.\n",
    "df = pd.DataFrame(records)\n",
    "\n",
    "# Filtering for Manhattan only.\n",
    "manhattan_df = df[df['borough'] == 'Manhattan']\n",
    "\n",
    "# Examining results.\n",
    "print(manhattan_df[['LocationID', 'zone', 'centroid_lat', 'centroid_lon', 'geometry']])"
   ]
  },
  {
   "cell_type": "code",
   "execution_count": 3,
   "id": "b7a70d27",
   "metadata": {},
   "outputs": [],
   "source": [
    "# Saving to CSV.\n",
    "manhattan_df.to_csv('manhattan_taxi_zones.csv', index=False)"
   ]
  },
  {
   "cell_type": "markdown",
   "id": "bb4ae55a",
   "metadata": {},
   "source": [
    "Examining centroid locations and whether they are marked correctly for each zone below and mapping each zone."
   ]
  },
  {
   "cell_type": "code",
   "execution_count": 4,
   "id": "a22b9296",
   "metadata": {},
   "outputs": [],
   "source": [
    "# Loading CSV with centroid data.\n",
    "df = pd.read_csv('manhattan_taxi_zones.csv')\n",
    "\n",
    "# Creating a map centered on Manhattan.\n",
    "m = folium.Map(location=[40.7831, -73.9712], zoom_start=12)\n",
    "\n",
    "# Plotting centroid markers.\n",
    "for _, row in df.iterrows():\n",
    "    folium.CircleMarker(\n",
    "        location=[row['centroid_lat'], row['centroid_lon']],\n",
    "        radius=5,\n",
    "        color='red',\n",
    "        fill=True,\n",
    "        fill_color='red',\n",
    "        fill_opacity=1,\n",
    "        popup=f\"Zone {row['zone']} (ID: {row['OBJECTID']})\"\n",
    "    ).add_to(m)\n",
    "\n",
    "# Loading and reprojecting shapefile to WGS84.\n",
    "gdf = gpd.read_file(\"taxi_zones.shp\").to_crs(epsg=4326)\n",
    "\n",
    "# Filtering for Manhattan zones only.\n",
    "manhattan_shapes = gdf[gdf['borough'] == 'Manhattan']\n",
    "\n",
    "# Adding actual zone shapes to the map.\n",
    "folium.GeoJson(\n",
    "    manhattan_shapes,\n",
    "    name=\"Manhattan Zones\",\n",
    "    tooltip=folium.GeoJsonTooltip(fields=[\"zone\", \"OBJECTID\"], aliases=[\"Zone:\", \"ID:\"])\n",
    ").add_to(m)\n",
    "\n",
    "# Saving combined map.\n",
    "m.save(\"manhattan_taxi_zones_combined.html\")"
   ]
  }
 ],
 "metadata": {
  "kernelspec": {
   "display_name": "base",
   "language": "python",
   "name": "python3"
  },
  "language_info": {
   "codemirror_mode": {
    "name": "ipython",
    "version": 3
   },
   "file_extension": ".py",
   "mimetype": "text/x-python",
   "name": "python",
   "nbconvert_exporter": "python",
   "pygments_lexer": "ipython3",
   "version": "3.12.4"
  }
 },
 "nbformat": 4,
 "nbformat_minor": 5
}
